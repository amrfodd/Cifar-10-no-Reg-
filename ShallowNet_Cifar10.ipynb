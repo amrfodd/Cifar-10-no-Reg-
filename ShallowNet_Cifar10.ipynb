{
 "cells": [
  {
   "cell_type": "markdown",
   "metadata": {},
   "source": [
    "# Import Libraries"
   ]
  },
  {
   "cell_type": "code",
   "execution_count": 50,
   "metadata": {},
   "outputs": [],
   "source": [
    "from sklearn.preprocessing import LabelBinarizer \n",
    "from sklearn.model_selection import train_test_split\n",
    "from sklearn.metrics import classification_report \n",
    "from Module.nn import shallownet\n",
    "from keras.optimizers import SGD\n",
    "import matplotlib.pyplot as plt \n",
    "from keras.datasets import cifar10"
   ]
  },
  {
   "cell_type": "markdown",
   "metadata": {},
   "source": [
    "# Normalize Data"
   ]
  },
  {
   "cell_type": "code",
   "execution_count": 51,
   "metadata": {},
   "outputs": [
    {
     "name": "stdout",
     "output_type": "stream",
     "text": [
      "[info] Loading Cifar10 data\n"
     ]
    }
   ],
   "source": [
    "print(\"[info] Loading Cifar10 data\")\n",
    "((trainx, trainy),(testx, testy)) = cifar10.load_data()\n",
    "trainX = trainx / 255.0\n",
    "testX = testx / 255.0"
   ]
  },
  {
   "cell_type": "markdown",
   "metadata": {},
   "source": [
    "# Instantiation"
   ]
  },
  {
   "cell_type": "code",
   "execution_count": 52,
   "metadata": {},
   "outputs": [],
   "source": [
    "lb = LabelBinarizer()"
   ]
  },
  {
   "cell_type": "code",
   "execution_count": 53,
   "metadata": {},
   "outputs": [],
   "source": [
    "trainY = lb.fit_transform(trainy)\n",
    "testY = lb.fit_transform(testy)\n",
    "# Initialize the label names for the CIFAR-10 dataset\n",
    "labelNames = [\"airplane\", \"automobile\", \"bird\", \"cat\", \"deer\", \"dog\", \"frog\", \"horse\", \"ship\", \"truck\"]"
   ]
  },
  {
   "cell_type": "markdown",
   "metadata": {},
   "source": [
    "# Initialize optimizer and model and train it"
   ]
  },
  {
   "cell_type": "code",
   "execution_count": 43,
   "metadata": {},
   "outputs": [
    {
     "name": "stdout",
     "output_type": "stream",
     "text": [
      "[info] compiling Network\n",
      "[Info] training network\n",
      "Train on 50000 samples, validate on 10000 samples\n",
      "Epoch 1/40\n",
      "50000/50000 [==============================] - 77s 2ms/step - loss: 1.8056 - accuracy: 0.3658 - val_loss: 1.6516 - val_accuracy: 0.4263\n",
      "Epoch 2/40\n",
      "50000/50000 [==============================] - 78s 2ms/step - loss: 1.5656 - accuracy: 0.4555 - val_loss: 1.5605 - val_accuracy: 0.4341\n",
      "Epoch 3/40\n",
      "50000/50000 [==============================] - 80s 2ms/step - loss: 1.4194 - accuracy: 0.5034 - val_loss: 1.3787 - val_accuracy: 0.5092\n",
      "Epoch 4/40\n",
      "50000/50000 [==============================] - 82s 2ms/step - loss: 1.3324 - accuracy: 0.5328 - val_loss: 1.3462 - val_accuracy: 0.5239\n",
      "Epoch 5/40\n",
      "50000/50000 [==============================] - 79s 2ms/step - loss: 1.2744 - accuracy: 0.5544 - val_loss: 1.3043 - val_accuracy: 0.5286\n",
      "Epoch 6/40\n",
      "50000/50000 [==============================] - 84s 2ms/step - loss: 1.2356 - accuracy: 0.5656 - val_loss: 1.2921 - val_accuracy: 0.5451\n",
      "Epoch 7/40\n",
      "50000/50000 [==============================] - 78s 2ms/step - loss: 1.2083 - accuracy: 0.5768 - val_loss: 1.2671 - val_accuracy: 0.5526\n",
      "Epoch 8/40\n",
      "50000/50000 [==============================] - 79s 2ms/step - loss: 1.1841 - accuracy: 0.5873 - val_loss: 1.2652 - val_accuracy: 0.5554\n",
      "Epoch 9/40\n",
      "50000/50000 [==============================] - 80s 2ms/step - loss: 1.1660 - accuracy: 0.5919 - val_loss: 1.2697 - val_accuracy: 0.5507\n",
      "Epoch 10/40\n",
      "50000/50000 [==============================] - 83s 2ms/step - loss: 1.1452 - accuracy: 0.6013 - val_loss: 1.2687 - val_accuracy: 0.5528\n",
      "Epoch 11/40\n",
      "50000/50000 [==============================] - 81s 2ms/step - loss: 1.1302 - accuracy: 0.6040 - val_loss: 1.2815 - val_accuracy: 0.5420\n",
      "Epoch 12/40\n",
      "50000/50000 [==============================] - 80s 2ms/step - loss: 1.1131 - accuracy: 0.6122 - val_loss: 1.2613 - val_accuracy: 0.5572\n",
      "Epoch 13/40\n",
      "50000/50000 [==============================] - 81s 2ms/step - loss: 1.0994 - accuracy: 0.6167 - val_loss: 1.2390 - val_accuracy: 0.5633\n",
      "Epoch 14/40\n",
      "50000/50000 [==============================] - 81s 2ms/step - loss: 1.0833 - accuracy: 0.6224 - val_loss: 1.2732 - val_accuracy: 0.5501\n",
      "Epoch 15/40\n",
      "50000/50000 [==============================] - 81s 2ms/step - loss: 1.0667 - accuracy: 0.6276 - val_loss: 1.2785 - val_accuracy: 0.5534\n",
      "Epoch 16/40\n",
      "50000/50000 [==============================] - 80s 2ms/step - loss: 1.0529 - accuracy: 0.6338 - val_loss: 1.2300 - val_accuracy: 0.5693\n",
      "Epoch 17/40\n",
      "50000/50000 [==============================] - 85s 2ms/step - loss: 1.0361 - accuracy: 0.6389 - val_loss: 1.2688 - val_accuracy: 0.5585\n",
      "Epoch 18/40\n",
      "50000/50000 [==============================] - 82s 2ms/step - loss: 1.0216 - accuracy: 0.6431 - val_loss: 1.2391 - val_accuracy: 0.5656\n",
      "Epoch 19/40\n",
      "50000/50000 [==============================] - 74s 1ms/step - loss: 0.9770 - accuracy: 0.6590 - val_loss: 1.2479 - val_accuracy: 0.5623\n",
      "Epoch 22/40\n",
      "50000/50000 [==============================] - 67s 1ms/step - loss: 0.9619 - accuracy: 0.6662 - val_loss: 1.2918 - val_accuracy: 0.5508\n",
      "Epoch 23/40\n",
      "50000/50000 [==============================] - 65s 1ms/step - loss: 0.9496 - accuracy: 0.6712 - val_loss: 1.2504 - val_accuracy: 0.5612\n",
      "Epoch 24/40\n",
      "50000/50000 [==============================] - 63s 1ms/step - loss: 0.9347 - accuracy: 0.6751 - val_loss: 1.2089 - val_accuracy: 0.5826\n",
      "Epoch 25/40\n",
      "50000/50000 [==============================] - 65s 1ms/step - loss: 0.9238 - accuracy: 0.6804 - val_loss: 1.2064 - val_accuracy: 0.5806\n",
      "Epoch 26/40\n",
      "50000/50000 [==============================] - 63s 1ms/step - loss: 0.9086 - accuracy: 0.6852 - val_loss: 1.2790 - val_accuracy: 0.5636\n",
      "Epoch 27/40\n",
      "50000/50000 [==============================] - 63s 1ms/step - loss: 0.8948 - accuracy: 0.6910 - val_loss: 1.2654 - val_accuracy: 0.5666\n",
      "Epoch 28/40\n",
      "50000/50000 [==============================] - 62s 1ms/step - loss: 0.8828 - accuracy: 0.6942 - val_loss: 1.2535 - val_accuracy: 0.5695\n",
      "Epoch 29/40\n",
      "50000/50000 [==============================] - 71s 1ms/step - loss: 0.8689 - accuracy: 0.7002 - val_loss: 1.2229 - val_accuracy: 0.5797\n",
      "Epoch 30/40\n",
      "50000/50000 [==============================] - 77s 2ms/step - loss: 0.8560 - accuracy: 0.7032 - val_loss: 1.2130 - val_accuracy: 0.5837\n",
      "Epoch 31/40\n",
      "50000/50000 [==============================] - 72s 1ms/step - loss: 0.8428 - accuracy: 0.7102 - val_loss: 1.2629 - val_accuracy: 0.5755\n",
      "Epoch 32/40\n",
      "50000/50000 [==============================] - 71s 1ms/step - loss: 0.8284 - accuracy: 0.7136 - val_loss: 1.2511 - val_accuracy: 0.5788\n",
      "Epoch 33/40\n",
      "50000/50000 [==============================] - 78s 2ms/step - loss: 0.8168 - accuracy: 0.7192 - val_loss: 1.2275 - val_accuracy: 0.5813\n",
      "Epoch 34/40\n",
      "50000/50000 [==============================] - 77s 2ms/step - loss: 0.8049 - accuracy: 0.7230 - val_loss: 1.2407 - val_accuracy: 0.5828\n",
      "Epoch 35/40\n",
      "50000/50000 [==============================] - 76s 2ms/step - loss: 0.7917 - accuracy: 0.7272 - val_loss: 1.2836 - val_accuracy: 0.5725\n",
      "Epoch 36/40\n",
      "50000/50000 [==============================] - 73s 1ms/step - loss: 0.7788 - accuracy: 0.7308 - val_loss: 1.2571 - val_accuracy: 0.5742\n",
      "Epoch 37/40\n",
      "50000/50000 [==============================] - 74s 1ms/step - loss: 0.7666 - accuracy: 0.7374 - val_loss: 1.2679 - val_accuracy: 0.5766\n",
      "Epoch 38/40\n",
      "50000/50000 [==============================] - 100s 2ms/step - loss: 0.7548 - accuracy: 0.7414 - val_loss: 1.2626 - val_accuracy: 0.5814\n",
      "Epoch 39/40\n",
      "50000/50000 [==============================] - 89s 2ms/step - loss: 0.7430 - accuracy: 0.7449 - val_loss: 1.3618 - val_accuracy: 0.5583\n",
      "Epoch 40/40\n",
      "50000/50000 [==============================] - 83s 2ms/step - loss: 0.7297 - accuracy: 0.7510 - val_loss: 1.2779 - val_accuracy: 0.5887\n"
     ]
    }
   ],
   "source": [
    "print(\"[info] compiling Network\")\n",
    "opt = SGD(lr = 0.01)\n",
    "model = shallownet.ShallowNet.build(width = 32, height = 32, depth = 3, classes = 10)\n",
    "model.compile(loss = 'categorical_crossentropy', optimizer = opt, metrics = ['accuracy'])\n",
    "S\n",
    "print(\"[Info] training network\")\n",
    "H = model.fit(trainX, trainY, validation_data = (testX, testY), batch_size =32, epochs =40, verbose = 1)"
   ]
  },
  {
   "cell_type": "markdown",
   "metadata": {},
   "source": [
    "# Evaluate Network"
   ]
  },
  {
   "cell_type": "code",
   "execution_count": 46,
   "metadata": {},
   "outputs": [
    {
     "name": "stdout",
     "output_type": "stream",
     "text": [
      "[info] evaluating Network \n",
      "              precision    recall  f1-score   support\n",
      "\n",
      "    airplane       0.60      0.71      0.65      1000\n",
      "  automobile       0.77      0.67      0.72      1000\n",
      "        bird       0.55      0.30      0.39      1000\n",
      "         cat       0.49      0.29      0.37      1000\n",
      "        deer       0.55      0.49      0.52      1000\n",
      "         dog       0.47      0.56      0.51      1000\n",
      "        frog       0.71      0.65      0.68      1000\n",
      "       horse       0.47      0.81      0.59      1000\n",
      "        ship       0.69      0.71      0.70      1000\n",
      "       truck       0.65      0.68      0.67      1000\n",
      "\n",
      "    accuracy                           0.59     10000\n",
      "   macro avg       0.60      0.59      0.58     10000\n",
      "weighted avg       0.60      0.59      0.58     10000\n",
      "\n"
     ]
    }
   ],
   "source": [
    "print(\"[info] evaluating Network \")\n",
    "preds = model.predict(testX, batch_size = 32)\n",
    "print(classification_report(testY.argmax(axis = 1),\n",
    "                           preds.argmax(axis = 1), target_names = labelNames))"
   ]
  },
  {
   "cell_type": "markdown",
   "metadata": {},
   "source": [
    "# Plot to see how your network works "
   ]
  },
  {
   "cell_type": "code",
   "execution_count": 49,
   "metadata": {},
   "outputs": [
    {
     "data": {
      "image/png": "[encoded data removed]",
      "text/plain": [
       "<Figure size 432x288 with 1 Axes>"
      ]
     },
     "metadata": {},
     "output_type": "display_data"
    }
   ],
   "source": [
    "plt.style.use(\"ggplot\")\n",
    "plt.figure()\n",
    "plt.plot(np.arange(0, 40), H.history[\"loss\"], label=\"train_loss\")\n",
    "plt.plot(np.arange(0, 40), H.history[\"val_loss\"], label=\"val_loss\")\n",
    "plt.plot(np.arange(0, 40), H.history[\"accuracy\"], label=\"train_acc\")\n",
    "plt.plot(np.arange(0, 40), H.history[\"val_accuracy\"], label=\"val_acc\")\n",
    "plt.title(\"Training loss and Accuracy\")\n",
    "plt.xlabel(\"Epochs #\")\n",
    "plt.ylabel(\"Loss/Accuracy\")\n",
    "plt.legend()\n",
    "plt.show()\n"
   ]
  },
  {
   "cell_type": "markdown",
   "metadata": {},
   "source": [
    "# Conclusion"
   ]
  },
  {
   "cell_type": "raw",
   "metadata": {},
   "source": [
    "From Graphs we can see that the model is ovr fitting after 4 epochs, as we dont use any Regularization Techniques"
   ]
  }
 ],
 "metadata": {
  "kernelspec": {
   "display_name": "Python 3",
   "language": "python",
   "name": "python3"
  },
  "language_info": {
   "codemirror_mode": {
    "name": "ipython",
    "version": 3
   },
   "file_extension": ".py",
   "mimetype": "text/x-python",
   "name": "python",
   "nbconvert_exporter": "python",
   "pygments_lexer": "ipython3",
   "version": "3.7.9"
  }
 },
 "nbformat": 4,
 "nbformat_minor": 4
}
